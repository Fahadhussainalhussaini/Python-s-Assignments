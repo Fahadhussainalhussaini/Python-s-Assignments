{
 "cells": [
  {
   "cell_type": "code",
   "execution_count": 12,
   "metadata": {},
   "outputs": [
    {
     "name": "stdout",
     "output_type": "stream",
     "text": [
      "Enter a Number: 33\n",
      "Enter another Number: 11\n",
      "Enter operation you want to perform: /\n",
      "33 / 11 = 3.0\n"
     ]
    }
   ],
   "source": [
    "# Q1: Make a calculator using Python with addition , subtraction , multiplication , division and power. \n",
    "num1=int(input(\"Enter a Number: \"))\n",
    "num2=int(input(\"Enter another Number: \"))\n",
    "opr=input(\"Enter operation you want to perform (i.e: +,-,*,/,^): \")\n",
    "if opr==\"+\":\n",
    "    print(num1,opr,num2,\"=\",(num1+num2))\n",
    "elif opr==\"*\":\n",
    "    print(num1,opr,num2,\"=\",(num1*num2))\n",
    "elif opr==\"/\":\n",
    "    print(num1,opr,num2,\"=\",(num1/num2))\n",
    "elif opr==\"-\":\n",
    "    print(num1,opr,num2,\"=\",(num1-num2))\n",
    "elif opr==\"^\":\n",
    "    print(num1,opr,num2,\"=\",(num1^num2))\n",
    "else:\n",
    "    print(\"Please enter a valid operation.\")"
   ]
  },
  {
   "cell_type": "code",
   "execution_count": 54,
   "metadata": {},
   "outputs": [
    {
     "name": "stdout",
     "output_type": "stream",
     "text": [
      "Enter a number to check, if that number exist in given list: 6\n",
      "6 exists in the given list.\n"
     ]
    }
   ],
   "source": [
    "# Q2: Write a program to check if there is any numeric value in list using for loop \n",
    "lst=[6,4,2,6,8,4,1]\n",
    "req_num=int(input(\"Enter a number to check, if that number exist in given list: \"))\n",
    "for num in lst:\n",
    "    if(num==req_num):\n",
    "        print(num,\"exists in the given list.\")\n",
    "    else:\n",
    "        print(\"Sorry\",req_num,\"doesn't in the list.\")\n",
    "    break"
   ]
  },
  {
   "cell_type": "code",
   "execution_count": 86,
   "metadata": {},
   "outputs": [
    {
     "name": "stdout",
     "output_type": "stream",
     "text": [
      "{'A': 'Khan', 'B': 'Fahad', 'C': 'Ali', 'D': 'Ahmad', 'E': 'Hussain', 'F': 'Adeel'}\n"
     ]
    }
   ],
   "source": [
    "# Q3: Write a Python script to add a key to a dictionary \n",
    "dtry={'A':\"Khan\",'B':\"Fahad\",'C':\"Ali\",'D':\"Ahmad\",'E':\"Hussain\"}\n",
    "dtry['F']=\"Adeel\"\n",
    "print(dtry)"
   ]
  },
  {
   "cell_type": "code",
   "execution_count": 63,
   "metadata": {},
   "outputs": [
    {
     "name": "stdout",
     "output_type": "stream",
     "text": [
      "Sum of the all the numberic items in given dictionary is:  46\n"
     ]
    }
   ],
   "source": [
    "# Q4:  Write a Python program to sum all the numeric items in a dictionary \n",
    "Dic={'A':18,'B':11,'C':9,'D':1,'E':3,'F':4}\n",
    "print(\"Sum of the all the numberic items in given dictionary is: \",sum(Dic.values()))"
   ]
  },
  {
   "cell_type": "code",
   "execution_count": 100,
   "metadata": {},
   "outputs": [
    {
     "name": "stdout",
     "output_type": "stream",
     "text": [
      "[3, 9, 12]\n"
     ]
    }
   ],
   "source": [
    "lst = [ 3, 6, 9, 12, 3, 30, 15, 9, 45, 36, 12, 12]\n",
    "dup_item = []\n",
    "uniq_item = {}\n",
    "for x in lst:\n",
    "   if x not in uniq_item:\n",
    "      uniq_item[x] = 1\n",
    "   else:\n",
    "      if uniq_item[x] == 1:\n",
    "         dup_item.append(x)\n",
    "      uniq_item[x] += 1\n",
    "print(dup_item)"
   ]
  },
  {
   "cell_type": "code",
   "execution_count": 84,
   "metadata": {},
   "outputs": [
    {
     "name": "stdout",
     "output_type": "stream",
     "text": [
      "Enter the key: C\n",
      "C exists in dictionary.\n"
     ]
    }
   ],
   "source": [
    "# Q6:  Write a Python script to check if a given key already exists in a dictionary \n",
    "dic2={'A':8,'B':2,'C':6}\n",
    "ky=input(\"Enter the key: \")\n",
    "if ky in dic2.keys():\n",
    "    print(ky+\" exists in dictionary.\")\n",
    "else:\n",
    "    print(ky+\" doesn't exist in dictionary.\")"
   ]
  },
  {
   "cell_type": "code",
   "execution_count": null,
   "metadata": {},
   "outputs": [],
   "source": []
  }
 ],
 "metadata": {
  "kernelspec": {
   "display_name": "Python 3",
   "language": "python",
   "name": "python3"
  },
  "language_info": {
   "codemirror_mode": {
    "name": "ipython",
    "version": 3
   },
   "file_extension": ".py",
   "mimetype": "text/x-python",
   "name": "python",
   "nbconvert_exporter": "python",
   "pygments_lexer": "ipython3",
   "version": "3.7.4"
  }
 },
 "nbformat": 4,
 "nbformat_minor": 2
}
