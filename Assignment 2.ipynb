{
 "cells": [
  {
   "cell_type": "code",
   "execution_count": 1,
   "metadata": {},
   "outputs": [
    {
     "name": "stdout",
     "output_type": "stream",
     "text": [
      "Enter the marks you've got i following subjects, out of 100: \n",
      "Physics: 92\n",
      "Mathematics: 91\n",
      "English: 77\n",
      "Pakistan Studies: 86\n",
      "Chemistry: 80\n",
      "Total Marks Obtained Out of 500 :  426\n",
      "Percentage:  85.2\n",
      "Grade: A+\n"
     ]
    }
   ],
   "source": [
    "\"\"\" Q1:  Write a program which takes 5 inputs from user for different \n",
    "     subject’s marks, total it and generate mark sheet using grades ?\"\"\" \n",
    "print(\"Enter the marks you've got i following subjects, out of 100: \")\n",
    "Mar_Phys=int(input(\"Physics: \"))\n",
    "Mar_Maths=int(input(\"Mathematics: \"))\n",
    "Mar_Eng=int(input(\"English: \"))\n",
    "Mar_PS=int(input(\"Pakistan Studies: \"))\n",
    "Mar_Chem=int(input(\"Chemistry: \"))\n",
    "Mar_Obt=Mar_Phys+Mar_Maths+Mar_Eng+Mar_PS+Mar_Chem\n",
    "perc=Mar_Obt*100/500\n",
    "print(\"Total Marks Obtained Out of 500 : \",Mar_Obt)\n",
    "print(\"Percentage: \",perc)\n",
    "if perc<=100:\n",
    "    if perc<=100 and perc>=80:\n",
    "        print(\"Grade: A+\")\n",
    "    elif perc<80 and perc>=70:\n",
    "        print(\"Grade: A\")\n",
    "    elif perc<70 and perc>=60:\n",
    "        print(\"Grade: B\")\n",
    "    elif perc<60 and perc>=50:\n",
    "        print(\"Grade: C\")\n",
    "    elif perc<50 and perc>=40:\n",
    "        print(\"Grade: E\")\n",
    "    else:\n",
    "        print(\"Grade: F (means fail!)\")\n",
    "else:\n",
    "    print(\"You've given a non-valid percentage(%)! Please try again.\")"
   ]
  },
  {
   "cell_type": "code",
   "execution_count": 2,
   "metadata": {},
   "outputs": [
    {
     "name": "stdout",
     "output_type": "stream",
     "text": [
      "Enter a number: 44\n",
      "44  is an even number.\n"
     ]
    }
   ],
   "source": [
    "# Q2:  Write a program which take input from user and identify that the given number is even or odd?\n",
    "Num=int(input(\"Enter a number: \"))\n",
    "if Num%2==0:\n",
    "    print(Num,\" is an even number.\")\n",
    "else:\n",
    "    print(Num,\" is an odd number.\")"
   ]
  },
  {
   "cell_type": "code",
   "execution_count": 3,
   "metadata": {},
   "outputs": [
    {
     "name": "stdout",
     "output_type": "stream",
     "text": [
      "Length of the given list is: 12\n"
     ]
    }
   ],
   "source": [
    "# Q3: Write a program which print the length of the list? \n",
    "List=[2,4,2,6,8,9,34,2,4,5,6,1]\n",
    "print(\"Length of the given list is:\",len(List))"
   ]
  },
  {
   "cell_type": "code",
   "execution_count": 4,
   "metadata": {},
   "outputs": [
    {
     "name": "stdout",
     "output_type": "stream",
     "text": [
      "Sum of elements of given array is: 39\n"
     ]
    }
   ],
   "source": [
    "# Q4: Write a Python program to sum all the numeric items in a list? \n",
    "arr=[9,6,5,4,3,3,2,3,2,2]\n",
    "print(\"Sum of elements of given array is:\",sum(arr))"
   ]
  },
  {
   "cell_type": "code",
   "execution_count": 6,
   "metadata": {},
   "outputs": [
    {
     "name": "stdout",
     "output_type": "stream",
     "text": [
      "Enter list: \n",
      "1 1 2 3 5 8 13 21 34 55 89\n",
      "1\n",
      "1\n",
      "2\n",
      "3\n"
     ]
    }
   ],
   "source": [
    "\"\"\"Q6: Take a list, say for example this one: \n",
    " a = [1, 1, 2, 3, 5, 8, 13, 21, 34, 55, 89] \n",
    "and write a program that prints out all the elements of the list that are less than 5. \"\"\"\n",
    "def findele():\n",
    "    n=5\n",
    "    for x in a:\n",
    "        if x<n:\n",
    "            print(x)\n",
    "print(\"Enter list: \")\n",
    "a=[int(x) for x in input().split()]\n",
    "findele()"
   ]
  },
  {
   "cell_type": "code",
   "execution_count": null,
   "metadata": {},
   "outputs": [],
   "source": []
  },
  {
   "cell_type": "code",
   "execution_count": null,
   "metadata": {},
   "outputs": [],
   "source": []
  }
 ],
 "metadata": {
  "kernelspec": {
   "display_name": "Python 3",
   "language": "python",
   "name": "python3"
  },
  "language_info": {
   "codemirror_mode": {
    "name": "ipython",
    "version": 3
   },
   "file_extension": ".py",
   "mimetype": "text/x-python",
   "name": "python",
   "nbconvert_exporter": "python",
   "pygments_lexer": "ipython3",
   "version": "3.7.4"
  }
 },
 "nbformat": 4,
 "nbformat_minor": 2
}
